{
 "cells": [
  {
   "cell_type": "code",
   "execution_count": 1,
   "id": "initial_id",
   "metadata": {
    "collapsed": true,
    "ExecuteTime": {
     "end_time": "2023-12-16T12:04:29.244703Z",
     "start_time": "2023-12-16T12:04:26.937333Z"
    }
   },
   "outputs": [
    {
     "name": "stdout",
     "output_type": "stream",
     "text": [
      "Requirement already satisfied: torch in ./venv/lib/python3.10/site-packages (2.1.2)\r\n",
      "Requirement already satisfied: torchvision in ./venv/lib/python3.10/site-packages (0.16.2)\r\n",
      "Requirement already satisfied: torchaudio in ./venv/lib/python3.10/site-packages (2.1.2)\r\n",
      "Requirement already satisfied: filelock in ./venv/lib/python3.10/site-packages (from torch) (3.13.1)\r\n",
      "Requirement already satisfied: fsspec in ./venv/lib/python3.10/site-packages (from torch) (2023.12.2)\r\n",
      "Requirement already satisfied: networkx in ./venv/lib/python3.10/site-packages (from torch) (3.2.1)\r\n",
      "Requirement already satisfied: jinja2 in ./venv/lib/python3.10/site-packages (from torch) (3.1.2)\r\n",
      "Requirement already satisfied: typing-extensions in ./venv/lib/python3.10/site-packages (from torch) (4.8.0)\r\n",
      "Requirement already satisfied: sympy in ./venv/lib/python3.10/site-packages (from torch) (1.12)\r\n",
      "Requirement already satisfied: requests in ./venv/lib/python3.10/site-packages (from torchvision) (2.31.0)\r\n",
      "Requirement already satisfied: numpy in ./venv/lib/python3.10/site-packages (from torchvision) (1.26.0)\r\n",
      "Requirement already satisfied: pillow!=8.3.*,>=5.3.0 in ./venv/lib/python3.10/site-packages (from torchvision) (10.0.1)\r\n",
      "Requirement already satisfied: MarkupSafe>=2.0 in ./venv/lib/python3.10/site-packages (from jinja2->torch) (2.1.3)\r\n",
      "Requirement already satisfied: idna<4,>=2.5 in ./venv/lib/python3.10/site-packages (from requests->torchvision) (3.4)\r\n",
      "Requirement already satisfied: certifi>=2017.4.17 in ./venv/lib/python3.10/site-packages (from requests->torchvision) (2023.7.22)\r\n",
      "Requirement already satisfied: urllib3<3,>=1.21.1 in ./venv/lib/python3.10/site-packages (from requests->torchvision) (2.0.5)\r\n",
      "Requirement already satisfied: charset-normalizer<4,>=2 in ./venv/lib/python3.10/site-packages (from requests->torchvision) (3.2.0)\r\n",
      "Requirement already satisfied: mpmath>=0.19 in ./venv/lib/python3.10/site-packages (from sympy->torch) (1.3.0)\r\n",
      "\r\n",
      "\u001B[1m[\u001B[0m\u001B[34;49mnotice\u001B[0m\u001B[1;39;49m]\u001B[0m\u001B[39;49m A new release of pip available: \u001B[0m\u001B[31;49m22.1.2\u001B[0m\u001B[39;49m -> \u001B[0m\u001B[32;49m23.3.1\u001B[0m\r\n",
      "\u001B[1m[\u001B[0m\u001B[34;49mnotice\u001B[0m\u001B[1;39;49m]\u001B[0m\u001B[39;49m To update, run: \u001B[0m\u001B[32;49mpip install --upgrade pip\u001B[0m\r\n",
      "Note: you may need to restart the kernel to use updated packages.\n"
     ]
    }
   ],
   "source": [
    "%pip install torch torchvision torchaudio"
   ]
  },
  {
   "cell_type": "code",
   "execution_count": 8,
   "outputs": [
    {
     "name": "stdout",
     "output_type": "stream",
     "text": [
      "\tPassive: John was accused\n",
      "\tPassive: She was sent\n",
      "\tPassive: He was given\n",
      "\tPassive: He will be sent\n",
      "\tPassive: meeting was called\n",
      "\tPassive: He was looked\n",
      "\tActive: David accused\n",
      "\tActive: Someone sent\n",
      "\tActive: I gave\n",
      "\tActive: They will send\n",
      "\tActive: They called\n",
      "\tActive: grandmother looked\n",
      "\tActive: men seized\n",
      "\tPassive: I was carried\n"
     ]
    }
   ],
   "source": [
    "import spacy\n",
    "from spacy.matcher import Matcher\n",
    "\n",
    "passive_sentences = [\n",
    "    \"John was accused of committing crimes by David.\",\n",
    "    \"She was sent a cheque for a thousand euros.\",\n",
    "    \"He was given a book for his birthday.\",\n",
    "    \"He will be sent away to school.\",\n",
    "    \"The meeting was called off.\",\n",
    "    \"He was looked after by his grandmother.\",\n",
    "]\n",
    "active_sentences = [\n",
    "    \"David accused John of committing crimes.\",\n",
    "    \"Someone sent her a cheque for a thousand euros.\",\n",
    "    \"I gave him a book for his birthday.\",\n",
    "    \"They will send him away to school.\",\n",
    "    \"They called off the meeting.\",\n",
    "    \"His grandmother looked after him.\"\n",
    "]\n",
    "composite_sentences = [\n",
    "    \"Three men seized me, and I was carried to the car.\"\n",
    "]\n",
    "\n",
    "# Load spaCy pipeline (model)\n",
    "nlp = spacy.load('en_core_web_sm')\n",
    "# Create pattern to match passive voice use\n",
    "passive_rules = [\n",
    "    [{'DEP': 'nsubjpass'}, {'DEP': 'aux', 'OP': '*'}, {'DEP': 'auxpass'}, {'TAG': 'VBN'}],\n",
    "    [{'DEP': 'nsubjpass'}, {'DEP': 'aux', 'OP': '*'}, {'DEP': 'auxpass'}, {'TAG': 'VBZ'}],\n",
    "    [{'DEP': 'nsubjpass'}, {'DEP': 'aux', 'OP': '*'}, {'DEP': 'auxpass'}, {'TAG': 'RB'}, {'TAG': 'VBN'}],\n",
    "]\n",
    "# Create pattern to match active voice use\n",
    "active_rules = [\n",
    "    [{'DEP': 'nsubj'}, {'TAG': 'VBD', 'DEP': 'ROOT'}],\n",
    "    [{'DEP': 'nsubj'}, {'TAG': 'VBP'}, {'TAG': 'VBG', 'OP': '!'}],\n",
    "    [{'DEP': 'nsubj'}, {'DEP': 'aux', 'OP': '*'}, {'TAG': 'VB'}],\n",
    "    [{'DEP': 'nsubj'}, {'DEP': 'aux', 'OP': '*'}, {'TAG': 'VBG'}],\n",
    "    [{'DEP': 'nsubj'}, {'TAG': 'RB', 'OP': '*'}, {'TAG': 'VBG'}],\n",
    "    [{'DEP': 'nsubj'}, {'TAG': 'RB', 'OP': '*'}, {'TAG': 'VBZ'}],\n",
    "    [{'DEP': 'nsubj'}, {'TAG': 'RB', 'OP': '+'}, {'TAG': 'VBD'}],\n",
    "]\n",
    "\n",
    "matcher = Matcher(nlp.vocab)  # Init. the matcher with a vocab (note matcher vocab must share same vocab with docs)\n",
    "matcher.add('Passive',  passive_rules)  # Add passive rules to matcher\n",
    "matcher.add('Active', active_rules)  # Add active rules to matcher\n",
    "text = passive_sentences + active_sentences + composite_sentences  # Combine various passive/active sentences\n",
    "\n",
    "for doc in nlp(\" \".join(text)).sents:\n",
    "    # doc = nlp(sentence)  # Process text with spaCy model\n",
    "    matches = matcher(doc)  # Get matches\n",
    "    # print(\"-\"*40 + \"\\n\" + sentence)\n",
    "    if len(matches) > 0:\n",
    "        for match_id, start, end in matches:\n",
    "            string_id = nlp.vocab.strings[match_id]\n",
    "            span = doc[start:end]  # the matched span\n",
    "            print(\"\\t{}: {}\".format(string_id, span.text))\n",
    "    else:\n",
    "        print(\"\\tNo active or passive voice detected.\")\n"
   ],
   "metadata": {
    "collapsed": false,
    "ExecuteTime": {
     "end_time": "2023-12-16T12:26:26.708337Z",
     "start_time": "2023-12-16T12:26:26.314584Z"
    }
   },
   "id": "37da208d81c2950f"
  },
  {
   "cell_type": "code",
   "execution_count": 9,
   "outputs": [
    {
     "name": "stdout",
     "output_type": "stream",
     "text": [
      "The tense of the sentence is: Present\n"
     ]
    }
   ],
   "source": [
    "import spacy\n",
    "from spacy.matcher import Matcher\n",
    "\n",
    "# Load the English NLP model\n",
    "nlp = spacy.load(\"en_core_web_sm\")\n",
    "\n",
    "def get_sentence_tense(sentence):\n",
    "    # Process the input sentence with spaCy\n",
    "    doc = nlp(sentence)\n",
    "\n",
    "    # Define the Matcher with a pattern for finding verbs with tense information\n",
    "    matcher = Matcher(nlp.vocab)\n",
    "\n",
    "    # Pattern for present tense (simple present or present continuous)\n",
    "    present_pattern = [\n",
    "        {\"POS\": \"VERB\", \"dep\": {\"in\": [\"ROOT\", \"aux\"]}, \"tag\": {\"regex\": \"^VB.*\"}},\n",
    "    ]\n",
    "\n",
    "    # Pattern for past tense\n",
    "    past_pattern = [\n",
    "        {\"POS\": \"VERB\", \"dep\": {\"in\": [\"ROOT\", \"aux\"]}, \"tag\": {\"regex\": \"^VBD$\"}},\n",
    "    ]\n",
    "\n",
    "    # Pattern for future tense\n",
    "    future_pattern = [\n",
    "        {\"LOWER\": \"will\"},\n",
    "        {\"POS\": \"VERB\", \"dep\": {\"in\": [\"ROOT\", \"aux\"]}, \"tag\": {\"regex\": \"^VB.*\"}},\n",
    "    ]\n",
    "\n",
    "    matcher.add(\"PRESENT_PATTERN\", [present_pattern])\n",
    "    matcher.add(\"PAST_PATTERN\", [past_pattern])\n",
    "    matcher.add(\"FUTURE_PATTERN\", [future_pattern])\n",
    "\n",
    "    # Find matches in the parsed sentence\n",
    "    matches = matcher(doc)\n",
    "\n",
    "    # Determine the tense based on the matches\n",
    "    if any(match_id == doc.vocab.strings[\"PRESENT_PATTERN\"] for match_id, _, _ in matches):\n",
    "        return \"Present\"\n",
    "    elif any(match_id == doc.vocab.strings[\"PAST_PATTERN\"] for match_id, _, _ in matches):\n",
    "        return \"Past\"\n",
    "    elif any(match_id == doc.vocab.strings[\"FUTURE_PATTERN\"] for match_id, _, _ in matches):\n",
    "        return \"Future\"\n",
    "    else:\n",
    "        return None\n",
    "\n",
    "# Example usage\n",
    "sentence = \"I will go to the store.\"\n",
    "tense = get_sentence_tense(sentence)\n",
    "\n",
    "if tense:\n",
    "    print(f\"The tense of the sentence is: {tense}\")\n",
    "else:\n",
    "    print(\"No relevant tense information found in the sentence.\")\n"
   ],
   "metadata": {
    "collapsed": false,
    "ExecuteTime": {
     "end_time": "2023-12-16T12:33:20.008195Z",
     "start_time": "2023-12-16T12:33:19.450946Z"
    }
   },
   "id": "aec3339e21e07368"
  },
  {
   "cell_type": "code",
   "execution_count": 29,
   "outputs": [
    {
     "name": "stdout",
     "output_type": "stream",
     "text": [
      "Sentence: \"I walked to the store.\" - Tense: Past\n",
      "Sentence: \"She is singing a song.\" - Tense: Present\n",
      "Sentence: \"We will go to the park.\" - Tense: Future\n",
      "Sentence: \"They had finished their homework.\" - Tense: Past\n",
      "Sentence: \"You are reading a book.\" - Tense: Present\n",
      "Sentence: \"I will be traveling next week.\" - Tense: Future\n",
      "Sentence: \"I am going to the store.\" - Tense: Present\n",
      "Sentence: \"You are not listening to me.\" - Tense: Present\n",
      "Sentence: \"I will have finished the homework by then.\" - Tense: Future\n"
     ]
    }
   ],
   "source": [
    "import spacy\n",
    "from spacy.matcher import Matcher\n",
    "\n",
    "nlp = spacy.load(\"en_core_web_sm\")\n",
    "matcher = Matcher(nlp.vocab)\n",
    "\n",
    "# Define the patterns\n",
    "past_tense_patterns = [\n",
    "    [{'TAG': 'VBD'}],  # Simple past tense\n",
    "    [{'TAG': 'VBN'}, {'DEP': 'auxpass'}],  # Past passive\n",
    "    [{'LOWER': 'had'}, {'TAG': 'VBN'}],  # Past perfect\n",
    "    [{'LOWER': 'had'}, {'LOWER': 'been'}, {'TAG': 'VBG'}]  # Past perfect continuous\n",
    "]\n",
    "\n",
    "present_tense_patterns = [\n",
    "    [{'TAG': 'VBZ'}],  # 3rd person singular present\n",
    "    [{'TAG': 'VBP'}],  # Non-3rd person singular present\n",
    "    [{'TAG': 'VBG'}, {'DEP': 'aux'}],  # Present participle/gerund\n",
    "    [{'LOWER': 'has'}, {'TAG': 'VBN'}],  # Present perfect\n",
    "    [{'LOWER': 'has'}, {'LOWER': 'been'}, {'TAG': 'VBG'}]  # Present perfect continuous\n",
    "]\n",
    "\n",
    "future_tense_patterns = [\n",
    "    [{'LOWER': 'will'}, {'TAG': 'VB'}],  # Future simple\n",
    "    [{'LOWER': 'is'}, {'LOWER': 'going'}, {'LOWER': 'to'}, {'TAG': 'VB'}],  # Future with \"going to\"\n",
    "    [{'LOWER': 'will'}, {'LOWER': 'be'}, {'TAG': 'VBG'}],  # Future continuous\n",
    "    [{'LOWER': 'will'}, {'LOWER': 'have'}, {'TAG': 'VBN'}],  # Future perfect\n",
    "    [{'LOWER': 'will'}, {'LOWER': 'have'}, {'LOWER': 'been'}, {'TAG': 'VBG'}]  # Future perfect continuous\n",
    "]\n",
    "\n",
    "# Add patterns to the matcher\n",
    "matcher.add(\"PAST_TENSE\", past_tense_patterns)\n",
    "matcher.add(\"PRESENT_TENSE\", present_tense_patterns)\n",
    "matcher.add(\"FUTURE_TENSE\", future_tense_patterns)\n",
    "\n",
    "# Example sentences\n",
    "sentences = [\n",
    "    \"I walked to the store.\",\n",
    "    \"She is singing a song.\",\n",
    "    \"We will go to the park.\",\n",
    "    \"They had finished their homework.\",\n",
    "    \"You are reading a book.\",\n",
    "    \"I will be traveling next week.\",\n",
    "    \"I am going to the store.\",\n",
    "    \"You are not listening to me.\",\n",
    "    \"I will have finished the homework by then.\",\n",
    "]\n",
    "\n",
    "for sentence in sentences:\n",
    "    doc = nlp(sentence)\n",
    "    matches = matcher(doc)\n",
    "\n",
    "    tense = None\n",
    "    for match_id, start, end in matches:\n",
    "        if nlp.vocab.strings[match_id] == \"PAST_TENSE\":\n",
    "            tense = \"Past\"\n",
    "        elif nlp.vocab.strings[match_id] == \"PRESENT_TENSE\":\n",
    "            tense = \"Present\"\n",
    "        elif nlp.vocab.strings[match_id] == \"FUTURE_TENSE\":\n",
    "            tense = \"Future\"\n",
    "\n",
    "    print(f'Sentence: \"{sentence}\" - Tense: {tense}')\n"
   ],
   "metadata": {
    "collapsed": false,
    "ExecuteTime": {
     "end_time": "2023-12-16T15:39:13.168530Z",
     "start_time": "2023-12-16T15:39:12.277872Z"
    }
   },
   "id": "45115ee13e6553c6"
  },
  {
   "cell_type": "code",
   "execution_count": null,
   "outputs": [],
   "source": [],
   "metadata": {
    "collapsed": false
   },
   "id": "1d73eb1f45386e7b"
  }
 ],
 "metadata": {
  "kernelspec": {
   "display_name": "Python 3",
   "language": "python",
   "name": "python3"
  },
  "language_info": {
   "codemirror_mode": {
    "name": "ipython",
    "version": 2
   },
   "file_extension": ".py",
   "mimetype": "text/x-python",
   "name": "python",
   "nbconvert_exporter": "python",
   "pygments_lexer": "ipython2",
   "version": "2.7.6"
  }
 },
 "nbformat": 4,
 "nbformat_minor": 5
}
