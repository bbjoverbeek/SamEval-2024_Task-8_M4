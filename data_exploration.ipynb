{
 "cells": [
  {
   "cell_type": "markdown",
   "metadata": {},
   "source": [
    "# Add some text here"
   ]
  },
  {
   "cell_type": "code",
   "execution_count": 36,
   "metadata": {
    "ExecuteTime": {
     "end_time": "2023-09-27T07:43:48.157115Z",
     "start_time": "2023-09-27T07:43:48.108070200Z"
    }
   },
   "outputs": [],
   "source": [
    "import pandas as pd\n",
    "import nltk\n",
    "#nltk.download('punkt')\n",
    "from pprint import pprint"
   ]
  },
  {
   "cell_type": "code",
   "execution_count": 37,
   "metadata": {
    "ExecuteTime": {
     "end_time": "2023-09-27T07:43:59.558000300Z",
     "start_time": "2023-09-27T07:43:51.340610400Z"
    }
   },
   "outputs": [],
   "source": [
    "# load data\n",
    "\n",
    "train_set = pd.read_json('./data/SubtaskA/subtaskA_train_monolingual.jsonl', lines=True)\n",
    "dev_set = pd.read_json('./data/SubtaskA/subtaskA_dev_monolingual.jsonl', lines=True)"
   ]
  },
  {
   "cell_type": "code",
   "execution_count": 38,
   "metadata": {
    "ExecuteTime": {
     "end_time": "2023-09-27T07:43:59.609709500Z",
     "start_time": "2023-09-27T07:43:59.564187700Z"
    }
   },
   "outputs": [
    {
     "data": {
      "text/plain": "<bound method NDFrame.describe of                                                      text  label    model   \n0       Forza Motorsport is a popular racing game that...      1  chatGPT  \\\n1       Buying Virtual Console games for your Nintendo...      1  chatGPT   \n2       Windows NT 4.0 was a popular operating system ...      1  chatGPT   \n3       How to Make Perfume\\n\\nPerfume is a great way ...      1  chatGPT   \n4       How to Convert Song Lyrics to a Song'\\n\\nConve...      1  chatGPT   \n...                                                   ...    ...      ...   \n119752  The paper is an interesting contribution, prim...      0    human   \n119753  \\nWe thank the reviewers for all their comment...      0    human   \n119754  The authors introduce a semi-supervised method...      0    human   \n119755  This paper proposes the Neural Graph Machine t...      0    human   \n119756  The paper proposes a model that aims at learni...      0    human   \n\n          source      id  \n0        wikihow       0  \n1        wikihow       1  \n2        wikihow       2  \n3        wikihow       3  \n4        wikihow       4  \n...          ...     ...  \n119752  peerread  119752  \n119753  peerread  119753  \n119754  peerread  119754  \n119755  peerread  119755  \n119756  peerread  119756  \n\n[119757 rows x 5 columns]>"
     },
     "execution_count": 38,
     "metadata": {},
     "output_type": "execute_result"
    }
   ],
   "source": [
    "train_set.describe"
   ]
  },
  {
   "cell_type": "code",
   "execution_count": 39,
   "metadata": {
    "ExecuteTime": {
     "end_time": "2023-09-27T07:43:59.716748600Z",
     "start_time": "2023-09-27T07:43:59.643398300Z"
    }
   },
   "outputs": [
    {
     "name": "stdout",
     "output_type": "stream",
     "text": [
      "Different models in train set:  {'cohere', 'chatGPT', 'davinci', 'dolly', 'human'}\n",
      "Different sources in train set: {'reddit', 'arxiv', 'peerread', 'wikipedia', 'wikihow'}\n"
     ]
    }
   ],
   "source": [
    "print(f'Different models in train set:  {set(train_set[\"model\"])}')\n",
    "print(f'Different sources in train set: {set(train_set[\"source\"])}')"
   ]
  },
  {
   "cell_type": "code",
   "execution_count": 40,
   "metadata": {
    "ExecuteTime": {
     "end_time": "2023-09-27T07:43:59.818887900Z",
     "start_time": "2023-09-27T07:43:59.705667900Z"
    }
   },
   "outputs": [],
   "source": [
    "# add code here to compute most used n-grams per model (ones that are not used in other models)"
   ]
  },
  {
   "cell_type": "code",
   "execution_count": 61,
   "outputs": [],
   "source": [
    "# average number of tokens in a sentence per model per source for monolingual training data (subtask A)\n",
    "models = set(train_set['model'])\n",
    "sources = set(train_set['source'])\n",
    "\n",
    "data = {'source': list(sources)}\n",
    "\n",
    "for model_name in models:\n",
    "    sent_len_per_model = []\n",
    "    for source in sources:\n",
    "        text = train_set.loc[(train_set['model'] == model_name) & (train_set['source'] == source)]['text']\n",
    "        avg = (text.apply(nltk.word_tokenize).str.len().sum() / text.apply(nltk.sent_tokenize).str.len().sum())\n",
    "        sent_len_per_model.append(avg)        \n",
    " \n",
    "    data[model_name] = sent_len_per_model"
   ],
   "metadata": {
    "collapsed": false,
    "ExecuteTime": {
     "end_time": "2023-09-27T10:17:08.415906200Z",
     "start_time": "2023-09-27T10:09:03.574002600Z"
    }
   }
  },
  {
   "cell_type": "code",
   "execution_count": 62,
   "outputs": [],
   "source": [
    "df = pd.DataFrame.from_dict(data)"
   ],
   "metadata": {
    "collapsed": false,
    "ExecuteTime": {
     "end_time": "2023-09-27T10:17:08.432854100Z",
     "start_time": "2023-09-27T10:17:08.421893100Z"
    }
   }
  },
  {
   "cell_type": "code",
   "execution_count": 63,
   "outputs": [
    {
     "data": {
      "text/plain": "<Axes: xlabel='source', ylabel='average number of tokens per sentence'>"
     },
     "execution_count": 63,
     "metadata": {},
     "output_type": "execute_result"
    },
    {
     "data": {
      "text/plain": "<Figure size 640x480 with 1 Axes>",
      "image/png": "[encoded data removed]"
     },
     "metadata": {},
     "output_type": "display_data"
    }
   ],
   "source": [
    "# plot average sentence length per model per source\n",
    "plot = df.groupby('source').sum()\n",
    "plot.plot(kind='bar', ylabel='average number of tokens per sentence')"
   ],
   "metadata": {
    "collapsed": false,
    "ExecuteTime": {
     "end_time": "2023-09-27T10:17:08.752151Z",
     "start_time": "2023-09-27T10:17:08.435848100Z"
    }
   }
  },
  {
   "cell_type": "code",
   "execution_count": null,
   "outputs": [],
   "source": [],
   "metadata": {
    "collapsed": false
   }
  }
 ],
 "metadata": {
  "kernelspec": {
   "display_name": "Python 3",
   "language": "python",
   "name": "python3"
  },
  "language_info": {
   "codemirror_mode": {
    "name": "ipython",
    "version": 3
   },
   "file_extension": ".py",
   "mimetype": "text/x-python",
   "name": "python",
   "nbconvert_exporter": "python",
   "pygments_lexer": "ipython3",
   "version": "3.10.12"
  },
  "orig_nbformat": 4
 },
 "nbformat": 4,
 "nbformat_minor": 2
}
