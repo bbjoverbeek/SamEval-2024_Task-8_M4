{
 "cells": [
  {
   "cell_type": "markdown",
   "metadata": {},
   "source": [
    "# Add some text here"
   ]
  },
  {
   "cell_type": "code",
   "execution_count": 4,
   "metadata": {},
   "outputs": [],
   "source": [
    "import pandas as pd\n",
    "from pprint import pprint"
   ]
  },
  {
   "cell_type": "code",
   "execution_count": 23,
   "metadata": {},
   "outputs": [],
   "source": [
    "# load data\n",
    "\n",
    "train_set = pd.read_json('./data/SubtaskA/subtaskA_train_monolingual.jsonl', lines=True)\n",
    "dev_set = pd.read_json('./data/SubtaskA/subtaskA_dev_monolingual.jsonl', lines=True)"
   ]
  },
  {
   "cell_type": "code",
   "execution_count": 20,
   "metadata": {},
   "outputs": [
    {
     "data": {
      "text/plain": [
       "<bound method NDFrame.describe of                                                      text  label    model  \\\n",
       "0       Forza Motorsport is a popular racing game that...      1  chatGPT   \n",
       "1       Buying Virtual Console games for your Nintendo...      1  chatGPT   \n",
       "2       Windows NT 4.0 was a popular operating system ...      1  chatGPT   \n",
       "3       How to Make Perfume\\n\\nPerfume is a great way ...      1  chatGPT   \n",
       "4       How to Convert Song Lyrics to a Song'\\n\\nConve...      1  chatGPT   \n",
       "...                                                   ...    ...      ...   \n",
       "119752  The paper is an interesting contribution, prim...      0    human   \n",
       "119753  \\nWe thank the reviewers for all their comment...      0    human   \n",
       "119754  The authors introduce a semi-supervised method...      0    human   \n",
       "119755  This paper proposes the Neural Graph Machine t...      0    human   \n",
       "119756  The paper proposes a model that aims at learni...      0    human   \n",
       "\n",
       "          source      id  \n",
       "0        wikihow       0  \n",
       "1        wikihow       1  \n",
       "2        wikihow       2  \n",
       "3        wikihow       3  \n",
       "4        wikihow       4  \n",
       "...          ...     ...  \n",
       "119752  peerread  119752  \n",
       "119753  peerread  119753  \n",
       "119754  peerread  119754  \n",
       "119755  peerread  119755  \n",
       "119756  peerread  119756  \n",
       "\n",
       "[119757 rows x 5 columns]>"
      ]
     },
     "execution_count": 20,
     "metadata": {},
     "output_type": "execute_result"
    }
   ],
   "source": [
    "train_set.describe"
   ]
  },
  {
   "cell_type": "code",
   "execution_count": 24,
   "metadata": {},
   "outputs": [
    {
     "name": "stdout",
     "output_type": "stream",
     "text": [
      "Different models in train set:  {'human', 'dolly', 'cohere', 'davinci', 'chatGPT'}\n",
      "Different sources in train set: {'peerread', 'wikipedia', 'wikihow', 'arxiv', 'reddit'}\n"
     ]
    }
   ],
   "source": [
    "print(f'Different models in train set:  {set(train_set[\"model\"])}')\n",
    "print(f'Different sources in train set: {set(train_set[\"source\"])}')"
   ]
  },
  {
   "cell_type": "code",
   "execution_count": null,
   "metadata": {},
   "outputs": [],
   "source": [
    "# add code here to compute most used n-grams per model (ones that are not used in other models)"
   ]
  }
 ],
 "metadata": {
  "kernelspec": {
   "display_name": "Python 3",
   "language": "python",
   "name": "python3"
  },
  "language_info": {
   "codemirror_mode": {
    "name": "ipython",
    "version": 3
   },
   "file_extension": ".py",
   "mimetype": "text/x-python",
   "name": "python",
   "nbconvert_exporter": "python",
   "pygments_lexer": "ipython3",
   "version": "3.10.12"
  },
  "orig_nbformat": 4
 },
 "nbformat": 4,
 "nbformat_minor": 2
}
